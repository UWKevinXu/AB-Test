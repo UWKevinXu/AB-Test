{
 "cells": [
  {
   "cell_type": "code",
   "execution_count": 1,
   "id": "aef9d491-9bc8-4dfa-bb74-808267cbda8a",
   "metadata": {},
   "outputs": [],
   "source": [
    "import numpy as np\n",
    "import pandas as pd\n",
    "## Read the data\n",
    "data = pd.read_csv(\"application.csv\") "
   ]
  },
  {
   "cell_type": "markdown",
   "id": "da4870e9-c2f3-4800-8fb0-2ed3b0c8dc2a",
   "metadata": {},
   "source": [
    "##  Exploratory Data Analysis"
   ]
  },
  {
   "cell_type": "code",
   "execution_count": 3,
   "id": "0e4a960e-4d22-406c-950a-9e449267bc83",
   "metadata": {},
   "outputs": [
    {
     "name": "stdout",
     "output_type": "stream",
     "text": [
      "   applicant_id            channel      group     city             event  \\\n",
      "0         10001  web-search-engine    control   Asgard  application_date   \n",
      "1         10002       social-media    control  Midgard  application_date   \n",
      "2         10003  web-search-engine  treatment  Midgard  application_date   \n",
      "3         10004       social-media  treatment   Asgard  application_date   \n",
      "4         10005       social-media  treatment  Midgard  application_date   \n",
      "5         10006    job-search-site    control   Asgard  application_date   \n",
      "6         10007       social-media    control  Midgard  application_date   \n",
      "7         10008  web-search-engine    control   Asgard  application_date   \n",
      "8         10009       social-media    control  Helheim  application_date   \n",
      "9         10010    job-search-site    control   Asgard  application_date   \n",
      "\n",
      "   event_date  \n",
      "0  2018-10-01  \n",
      "1  2018-10-01  \n",
      "2  2018-10-01  \n",
      "3  2018-10-01  \n",
      "4  2018-10-01  \n",
      "5  2018-10-01  \n",
      "6  2018-10-01  \n",
      "7  2018-10-01  \n",
      "8  2018-10-01  \n",
      "9  2018-10-01  \n"
     ]
    }
   ],
   "source": [
    "print(data.head(10))"
   ]
  },
  {
   "cell_type": "code",
   "execution_count": 33,
   "id": "10e59cef-0e97-4a65-812e-dc3afeedf0c5",
   "metadata": {},
   "outputs": [
    {
     "name": "stdout",
     "output_type": "stream",
     "text": [
      "       group  count proportion\n",
      "0    control  68750     63.46%\n",
      "1  treatment  39578     36.54%\n"
     ]
    }
   ],
   "source": [
    "# Count of each group\n",
    "group_counts = data['group'].value_counts().reset_index()\n",
    "group_counts.columns = ['group', 'count']\n",
    "\n",
    "# Calculate proportion\n",
    "group_counts['proportion'] = group_counts['count'] / group_counts['count'].sum()\n",
    "\n",
    "# Format proportion as %\n",
    "group_counts['proportion'] = group_counts['proportion'].apply(lambda x: f\"{x:.2%}\")\n",
    "\n",
    "print(group_counts)\n"
   ]
  },
  {
   "cell_type": "code",
   "execution_count": 4,
   "id": "2046d721-42b3-4e64-bcc6-9985d638370e",
   "metadata": {},
   "outputs": [],
   "source": [
    "from scipy import stats\n",
    "\n",
    "\n",
    "data['event_date'] = pd.to_datetime(data['event_date'])\n",
    "\n",
    "events_needed = ['application_date', 'first_batch_completed_date']\n",
    "filtered = data[data['event'].isin(events_needed)]\n",
    "\n",
    "\n",
    "pivoted = filtered.pivot_table(index=['applicant_id', 'group'],\n",
    "                               columns='event',\n",
    "                               values='event_date',\n",
    "                               aggfunc='first').reset_index()\n",
    "\n",
    "\n",
    "pivoted = pivoted.dropna(subset=['application_date', 'first_batch_completed_date'])\n",
    "\n",
    "\n",
    "pivoted['days_to_complete'] = (pivoted['first_batch_completed_date'] - pivoted['application_date']).dt.days\n"
   ]
  },
  {
   "cell_type": "code",
   "execution_count": 5,
   "id": "f2c45d27-9c0b-4218-948e-0b04a5dc3be7",
   "metadata": {},
   "outputs": [
    {
     "name": "stdout",
     "output_type": "stream",
     "text": [
      "       group    level_1  days_to_complete\n",
      "0    control  mean_days         10.002088\n",
      "1    control   ci_lower          9.897616\n",
      "2    control   ci_upper         10.106561\n",
      "3    control          n       2873.000000\n",
      "4  treatment  mean_days          6.931607\n",
      "5  treatment   ci_lower          6.838339\n",
      "6  treatment   ci_upper          7.024875\n",
      "7  treatment          n       2471.000000\n"
     ]
    }
   ],
   "source": [
    "from datetime import timedelta\n",
    "\n",
    "def mean_confidence_interval(series):\n",
    "    n = len(series)\n",
    "    mean = series.mean()\n",
    "    std = series.std()\n",
    "    se = std / np.sqrt(n)\n",
    "    t_crit = stats.t.ppf(0.975, df=n-1)\n",
    "    ci_margin = t_crit * se\n",
    "    return pd.Series({\n",
    "        'mean_days': mean,\n",
    "        'ci_lower': mean - ci_margin,\n",
    "        'ci_upper': mean + ci_margin,\n",
    "        'n': n\n",
    "    })\n",
    "\n",
    "result = pivoted.groupby('group')['days_to_complete'].apply(mean_confidence_interval).reset_index()\n",
    "print(result)\n",
    "\n",
    "# Experiment end date\n",
    "experiment_end = pd.to_datetime('2018-11-11')\n",
    "\n",
    "# Lower bounds of 95% CI for each group\n",
    "ci_dict = {\n",
    "    'control': 9.9,\n",
    "    'treatment': 6.8\n",
    "}"
   ]
  },
  {
   "cell_type": "code",
   "execution_count": 6,
   "id": "f4d11849-57e7-4561-b96c-7446f163bc31",
   "metadata": {},
   "outputs": [
    {
     "name": "stdout",
     "output_type": "stream",
     "text": [
      "Remaining applicants: 16224\n"
     ]
    }
   ],
   "source": [
    "\n",
    "# Get only application_date events\n",
    "application_events = data[data['event'] == 'application_date'][['applicant_id', 'group', 'event_date']].copy()\n",
    "\n",
    "# Compute cutoff date per group\n",
    "application_events['cutoff'] = application_events['group'].map(lambda g: experiment_end - timedelta(days=ci_dict[g]))\n",
    "\n",
    "# Find applicant_ids to keep\n",
    "valid_ids = application_events[application_events['event_date'] <= application_events['cutoff']]['applicant_id'].unique()\n",
    "\n",
    "# Keep all events for valid applicant_ids\n",
    "data_cleaned = data[data['applicant_id'].isin(valid_ids)].copy()\n",
    "\n",
    "print(f\"Remaining applicants: {len(valid_ids)}\")"
   ]
  },
  {
   "cell_type": "markdown",
   "id": "8ef2ae80-00c8-4a0c-894b-38a0706e915c",
   "metadata": {},
   "source": [
    "### Problem 1:"
   ]
  },
  {
   "cell_type": "markdown",
   "id": "4c5cfde1-a4e9-435a-9da7-cf5cd1cf8a3f",
   "metadata": {},
   "source": [
    "#### To compare the result from the AB test, we can perform a Z-test with H0: conversion_rate_control = conversion_rate_treatment, and Ha: conversion_rate_control > conversion_rate_treatment."
   ]
  },
  {
   "cell_type": "code",
   "execution_count": 9,
   "id": "7d13e015-4bb0-4f03-b31b-58cca7ba6105",
   "metadata": {},
   "outputs": [
    {
     "name": "stdout",
     "output_type": "stream",
     "text": [
      "       group  conversion_rate\n",
      "0    control         0.263446\n",
      "1  treatment         0.412767\n"
     ]
    }
   ],
   "source": [
    "# Count total applicants per group\n",
    "total_applicants = data_cleaned[data_cleaned['event'] == 'application_date'].groupby('group')['applicant_id'].nunique()\n",
    "\n",
    "# Count applicants who completed first batch per group\n",
    "completed_applicants = data_cleaned[data_cleaned['event'] == 'first_batch_completed_date'].groupby('group')['applicant_id'].nunique()\n",
    "\n",
    "# Calculate conversion rate\n",
    "conversion_rate = (completed_applicants / total_applicants).reset_index()\n",
    "conversion_rate.columns = ['group', 'conversion_rate']\n",
    "\n",
    "print(conversion_rate)\n"
   ]
  },
  {
   "cell_type": "code",
   "execution_count": 10,
   "id": "272e4cc6-d788-408e-804d-23e333f2d102",
   "metadata": {},
   "outputs": [],
   "source": [
    "from statsmodels.stats.proportion import proportions_ztest\n",
    "from scipy.stats import norm\n",
    "import numpy as np\n",
    "\n",
    "# Get successes and total observations\n",
    "successes = completed_applicants.values\n",
    "nobs = total_applicants.values\n",
    "\n",
    "# Conversion rates\n",
    "p1 = successes[0] / nobs[0]  # control\n",
    "p2 = successes[1] / nobs[1]  # treatment\n",
    "diff = p2 - p1\n",
    "\n",
    "# Standard error of the difference\n",
    "se_diff = np.sqrt((p1 * (1 - p1) / nobs[0]) + (p2 * (1 - p2) / nobs[1]))\n"
   ]
  },
  {
   "cell_type": "code",
   "execution_count": 11,
   "id": "aa7c472b-95a1-4740-a1eb-42b5d54db1fc",
   "metadata": {},
   "outputs": [
    {
     "name": "stdout",
     "output_type": "stream",
     "text": [
      "Z-statistic: 19.2226\n",
      "P-value for Null Hyopthesis is: 0.0000\n"
     ]
    }
   ],
   "source": [
    "from scipy.stats import norm\n",
    "import numpy as np\n",
    "\n",
    "# Z-statistic: control - treatment\n",
    "z_stat = (p2 - p1) / se_diff\n",
    "\n",
    "# One-sided p-value for Hₐ: p_control > p_treatment\n",
    "p_value = norm.sf(z_stat)\n",
    "\n",
    "# Output\n",
    "print(f\"Z-statistic: {z_stat:.4f}\")\n",
    "print(f\"P-value for Null Hyopthesis is: {p_value:.4f}\")\n",
    "\n",
    "\n"
   ]
  },
  {
   "cell_type": "code",
   "execution_count": 12,
   "id": "727d8553-57cc-46c1-947f-fa9f97ef4956",
   "metadata": {},
   "outputs": [
    {
     "name": "stdout",
     "output_type": "stream",
     "text": [
      "Difference in conversion rates (control - treatment): 0.1493\n",
      "95% CI for the difference: [0.1341, 0.1645]\n"
     ]
    }
   ],
   "source": [
    "# 95% Confidence Interval\n",
    "z_critical = norm.ppf(0.975)\n",
    "ci_lower = diff - z_critical * se_diff\n",
    "ci_upper = diff + z_critical * se_diff\n",
    "\n",
    "# Output\n",
    "print(f\"Difference in conversion rates (control - treatment): {diff:.4f}\")\n",
    "print(f\"95% CI for the difference: [{ci_lower:.4f}, {ci_upper:.4f}]\")"
   ]
  },
  {
   "cell_type": "markdown",
   "id": "a82aede4-e2f4-49d3-8368-381a691b447e",
   "metadata": {},
   "source": [
    "### Problem 2"
   ]
  },
  {
   "cell_type": "code",
   "execution_count": 39,
   "id": "53f47137-7f28-47a1-be15-9dd48b8fed41",
   "metadata": {},
   "outputs": [
    {
     "data": {
      "text/html": [
       "<style type=\"text/css\">\n",
       "#T_5e00e th {\n",
       "  text-align: center;\n",
       "}\n",
       "#T_5e00e_row0_col0, #T_5e00e_row0_col1, #T_5e00e_row0_col2, #T_5e00e_row0_col4, #T_5e00e_row0_col5, #T_5e00e_row1_col0, #T_5e00e_row1_col1, #T_5e00e_row1_col2, #T_5e00e_row1_col4, #T_5e00e_row1_col5 {\n",
       "  text-align: center;\n",
       "}\n",
       "#T_5e00e_row0_col3 {\n",
       "  background-color: #f7fcf5;\n",
       "  color: #000000;\n",
       "  text-align: center;\n",
       "}\n",
       "#T_5e00e_row1_col3 {\n",
       "  background-color: #00441b;\n",
       "  color: #f1f1f1;\n",
       "  text-align: center;\n",
       "}\n",
       "</style>\n",
       "<table id=\"T_5e00e\">\n",
       "  <thead>\n",
       "    <tr>\n",
       "      <th id=\"T_5e00e_level0_col0\" class=\"col_heading level0 col0\" >group</th>\n",
       "      <th id=\"T_5e00e_level0_col1\" class=\"col_heading level0 col1\" >total_initiated</th>\n",
       "      <th id=\"T_5e00e_level0_col2\" class=\"col_heading level0 col2\" >total_completed</th>\n",
       "      <th id=\"T_5e00e_level0_col3\" class=\"col_heading level0 col3\" >conversion_rate</th>\n",
       "      <th id=\"T_5e00e_level0_col4\" class=\"col_heading level0 col4\" >total_cost</th>\n",
       "      <th id=\"T_5e00e_level0_col5\" class=\"col_heading level0 col5\" >cost_per_conversion</th>\n",
       "    </tr>\n",
       "  </thead>\n",
       "  <tbody>\n",
       "    <tr>\n",
       "      <td id=\"T_5e00e_row0_col0\" class=\"data row0 col0\" >control</td>\n",
       "      <td id=\"T_5e00e_row0_col1\" class=\"data row0 col1\" >8,909</td>\n",
       "      <td id=\"T_5e00e_row0_col2\" class=\"data row0 col2\" >2,743</td>\n",
       "      <td id=\"T_5e00e_row0_col3\" class=\"data row0 col3\" >30.79%</td>\n",
       "      <td id=\"T_5e00e_row0_col4\" class=\"data row0 col4\" >$267,270</td>\n",
       "      <td id=\"T_5e00e_row0_col5\" class=\"data row0 col5\" >$97.44</td>\n",
       "    </tr>\n",
       "    <tr>\n",
       "      <td id=\"T_5e00e_row1_col0\" class=\"data row1 col0\" >treatment</td>\n",
       "      <td id=\"T_5e00e_row1_col1\" class=\"data row1 col1\" >5,812</td>\n",
       "      <td id=\"T_5e00e_row1_col2\" class=\"data row1 col2\" >2,399</td>\n",
       "      <td id=\"T_5e00e_row1_col3\" class=\"data row1 col3\" >41.28%</td>\n",
       "      <td id=\"T_5e00e_row1_col4\" class=\"data row1 col4\" >$174,360</td>\n",
       "      <td id=\"T_5e00e_row1_col5\" class=\"data row1 col5\" >$72.68</td>\n",
       "    </tr>\n",
       "  </tbody>\n",
       "</table>\n"
      ],
      "text/plain": [
       "<pandas.io.formats.style.Styler at 0x2a282c88110>"
      ]
     },
     "execution_count": 39,
     "metadata": {},
     "output_type": "execute_result"
    }
   ],
   "source": [
    "# Filter applicants who initiated background check\n",
    "bg_check = data_cleaned[data_cleaned['event'] == 'background_check_initiated_date'][['applicant_id', 'group']].drop_duplicates()\n",
    "\n",
    "# Flag applicants who completed the first batch\n",
    "first_batch = data_cleaned[data_cleaned['event'] == 'first_batch_completed_date'][['applicant_id']].drop_duplicates()\n",
    "first_batch['completed'] = 1\n",
    "\n",
    "# Merge and compute success flag\n",
    "merged = bg_check.merge(first_batch, on='applicant_id', how='left')\n",
    "merged['completed'] = merged['completed'].fillna(0).astype(int)\n",
    "\n",
    "# Group by group and calculate metrics\n",
    "conversion_summary = merged.groupby('group').agg(\n",
    "    total_initiated=('applicant_id', 'nunique'),\n",
    "    total_completed=('completed', 'sum')\n",
    ").reset_index()\n",
    "\n",
    "conversion_summary['conversion_rate'] = conversion_summary['total_completed'] / conversion_summary['total_initiated']\n",
    "\n",
    "# Add cost-effectiveness columns\n",
    "COST_PER_BG_CHECK = 30\n",
    "conversion_summary['total_cost'] = conversion_summary['total_initiated'] * COST_PER_BG_CHECK\n",
    "conversion_summary['cost_per_conversion'] = conversion_summary['total_cost'] / conversion_summary['total_completed']\n",
    "\n",
    "# Final clean output\n",
    "conversion_summary = conversion_summary[['group', 'total_initiated', 'total_completed', 'conversion_rate',\n",
    "                                         'total_cost', 'cost_per_conversion']]\n",
    "\n",
    "# Nicely formatted output\n",
    "styled_summary = conversion_summary.style \\\n",
    "    .format({\n",
    "        'total_initiated': '{:,}',\n",
    "        'total_completed': '{:,}',\n",
    "        'conversion_rate': '{:.2%}',\n",
    "        'total_cost': '${:,.0f}',\n",
    "        'cost_per_conversion': '${:,.2f}'\n",
    "    }) \\\n",
    "    .background_gradient(subset='conversion_rate', cmap='Greens') \\\n",
    "    .set_properties(**{'text-align': 'center'}) \\\n",
    "    .set_table_styles([{\n",
    "        'selector': 'th',\n",
    "        'props': [('text-align', 'center')]\n",
    "    }]) \\\n",
    "    .hide(axis='index')\n",
    "\n",
    "styled_summary\n"
   ]
  },
  {
   "cell_type": "markdown",
   "id": "9e909acf-551c-4baf-82dd-4abb4890160c",
   "metadata": {},
   "source": [
    "### Problem 3"
   ]
  },
  {
   "cell_type": "code",
   "execution_count": 29,
   "id": "869c52b2-d0a6-4c5c-9a6c-830df2a2d3d9",
   "metadata": {},
   "outputs": [
    {
     "name": "stdout",
     "output_type": "stream",
     "text": [
      "       group                 channel  total_applied  total_completed  \\\n",
      "0    control         job-search-site           1825              284   \n",
      "1    control  shopper-referral-bonus           1417              473   \n",
      "2    control            social-media           3096              971   \n",
      "3    control       web-search-engine           4074             1015   \n",
      "4  treatment         job-search-site            965              364   \n",
      "5  treatment  shopper-referral-bonus            876              416   \n",
      "6  treatment            social-media           1666              616   \n",
      "7  treatment       web-search-engine           2305             1003   \n",
      "\n",
      "   conversion_rate  \n",
      "0         0.155616  \n",
      "1         0.333804  \n",
      "2         0.313630  \n",
      "3         0.249141  \n",
      "4         0.377202  \n",
      "5         0.474886  \n",
      "6         0.369748  \n",
      "7         0.435141  \n"
     ]
    }
   ],
   "source": [
    "# Get all application_date events\n",
    "applied = data_cleaned[data_cleaned['event'] == 'application_date'][['applicant_id', 'group', 'channel']].drop_duplicates()\n",
    "\n",
    "# Get all first_batch_completed_date events\n",
    "completed = data_cleaned[data_cleaned['event'] == 'first_batch_completed_date'][['applicant_id']].drop_duplicates()\n",
    "completed['completed'] = 1\n",
    "\n",
    "# Merge to check who completed\n",
    "merged = applied.merge(completed, on='applicant_id', how='left')\n",
    "merged['completed'] = merged['completed'].fillna(0).astype(int)\n",
    "\n",
    "# Group by group + channel\n",
    "summary = merged.groupby(['group', 'channel']).agg(\n",
    "    total_applied=('applicant_id', 'nunique'),\n",
    "    total_completed=('completed', 'sum')\n",
    ").reset_index()\n",
    "\n",
    "summary['conversion_rate'] = summary['total_completed'] / summary['total_applied']\n",
    "\n"
   ]
  },
  {
   "cell_type": "code",
   "execution_count": 31,
   "id": "69fd60e7-b10f-4038-86a9-48fff8400fcb",
   "metadata": {},
   "outputs": [
    {
     "data": {
      "text/html": [
       "<style type=\"text/css\">\n",
       "#T_1fb9d th {\n",
       "  text-align: center;\n",
       "}\n",
       "#T_1fb9d_row0_col0, #T_1fb9d_row0_col1, #T_1fb9d_row0_col2, #T_1fb9d_row0_col3, #T_1fb9d_row1_col0, #T_1fb9d_row1_col1, #T_1fb9d_row1_col2, #T_1fb9d_row1_col3, #T_1fb9d_row2_col0, #T_1fb9d_row2_col1, #T_1fb9d_row2_col2, #T_1fb9d_row2_col3, #T_1fb9d_row3_col0, #T_1fb9d_row3_col1, #T_1fb9d_row3_col2, #T_1fb9d_row3_col3, #T_1fb9d_row4_col0, #T_1fb9d_row4_col1, #T_1fb9d_row4_col2, #T_1fb9d_row4_col3, #T_1fb9d_row5_col0, #T_1fb9d_row5_col1, #T_1fb9d_row5_col2, #T_1fb9d_row5_col3, #T_1fb9d_row6_col0, #T_1fb9d_row6_col1, #T_1fb9d_row6_col2, #T_1fb9d_row6_col3, #T_1fb9d_row7_col0, #T_1fb9d_row7_col1, #T_1fb9d_row7_col2, #T_1fb9d_row7_col3 {\n",
       "  text-align: center;\n",
       "}\n",
       "#T_1fb9d_row0_col4 {\n",
       "  background-color: #f7fcf5;\n",
       "  color: #000000;\n",
       "  text-align: center;\n",
       "}\n",
       "#T_1fb9d_row1_col4 {\n",
       "  background-color: #5db96b;\n",
       "  color: #f1f1f1;\n",
       "  text-align: center;\n",
       "}\n",
       "#T_1fb9d_row2_col4 {\n",
       "  background-color: #76c578;\n",
       "  color: #000000;\n",
       "  text-align: center;\n",
       "}\n",
       "#T_1fb9d_row3_col4 {\n",
       "  background-color: #bbe4b4;\n",
       "  color: #000000;\n",
       "  text-align: center;\n",
       "}\n",
       "#T_1fb9d_row4_col4 {\n",
       "  background-color: #309950;\n",
       "  color: #f1f1f1;\n",
       "  text-align: center;\n",
       "}\n",
       "#T_1fb9d_row5_col4 {\n",
       "  background-color: #00441b;\n",
       "  color: #f1f1f1;\n",
       "  text-align: center;\n",
       "}\n",
       "#T_1fb9d_row6_col4 {\n",
       "  background-color: #369f54;\n",
       "  color: #f1f1f1;\n",
       "  text-align: center;\n",
       "}\n",
       "#T_1fb9d_row7_col4 {\n",
       "  background-color: #006c2c;\n",
       "  color: #f1f1f1;\n",
       "  text-align: center;\n",
       "}\n",
       "</style>\n",
       "<table id=\"T_1fb9d\">\n",
       "  <thead>\n",
       "    <tr>\n",
       "      <th id=\"T_1fb9d_level0_col0\" class=\"col_heading level0 col0\" >group</th>\n",
       "      <th id=\"T_1fb9d_level0_col1\" class=\"col_heading level0 col1\" >channel</th>\n",
       "      <th id=\"T_1fb9d_level0_col2\" class=\"col_heading level0 col2\" >total_applied</th>\n",
       "      <th id=\"T_1fb9d_level0_col3\" class=\"col_heading level0 col3\" >total_completed</th>\n",
       "      <th id=\"T_1fb9d_level0_col4\" class=\"col_heading level0 col4\" >conversion_rate</th>\n",
       "    </tr>\n",
       "  </thead>\n",
       "  <tbody>\n",
       "    <tr>\n",
       "      <td id=\"T_1fb9d_row0_col0\" class=\"data row0 col0\" >control</td>\n",
       "      <td id=\"T_1fb9d_row0_col1\" class=\"data row0 col1\" >job-search-site</td>\n",
       "      <td id=\"T_1fb9d_row0_col2\" class=\"data row0 col2\" >1,825</td>\n",
       "      <td id=\"T_1fb9d_row0_col3\" class=\"data row0 col3\" >284</td>\n",
       "      <td id=\"T_1fb9d_row0_col4\" class=\"data row0 col4\" >15.56%</td>\n",
       "    </tr>\n",
       "    <tr>\n",
       "      <td id=\"T_1fb9d_row1_col0\" class=\"data row1 col0\" >control</td>\n",
       "      <td id=\"T_1fb9d_row1_col1\" class=\"data row1 col1\" >shopper-referral-bonus</td>\n",
       "      <td id=\"T_1fb9d_row1_col2\" class=\"data row1 col2\" >1,417</td>\n",
       "      <td id=\"T_1fb9d_row1_col3\" class=\"data row1 col3\" >473</td>\n",
       "      <td id=\"T_1fb9d_row1_col4\" class=\"data row1 col4\" >33.38%</td>\n",
       "    </tr>\n",
       "    <tr>\n",
       "      <td id=\"T_1fb9d_row2_col0\" class=\"data row2 col0\" >control</td>\n",
       "      <td id=\"T_1fb9d_row2_col1\" class=\"data row2 col1\" >social-media</td>\n",
       "      <td id=\"T_1fb9d_row2_col2\" class=\"data row2 col2\" >3,096</td>\n",
       "      <td id=\"T_1fb9d_row2_col3\" class=\"data row2 col3\" >971</td>\n",
       "      <td id=\"T_1fb9d_row2_col4\" class=\"data row2 col4\" >31.36%</td>\n",
       "    </tr>\n",
       "    <tr>\n",
       "      <td id=\"T_1fb9d_row3_col0\" class=\"data row3 col0\" >control</td>\n",
       "      <td id=\"T_1fb9d_row3_col1\" class=\"data row3 col1\" >web-search-engine</td>\n",
       "      <td id=\"T_1fb9d_row3_col2\" class=\"data row3 col2\" >4,074</td>\n",
       "      <td id=\"T_1fb9d_row3_col3\" class=\"data row3 col3\" >1,015</td>\n",
       "      <td id=\"T_1fb9d_row3_col4\" class=\"data row3 col4\" >24.91%</td>\n",
       "    </tr>\n",
       "    <tr>\n",
       "      <td id=\"T_1fb9d_row4_col0\" class=\"data row4 col0\" >treatment</td>\n",
       "      <td id=\"T_1fb9d_row4_col1\" class=\"data row4 col1\" >job-search-site</td>\n",
       "      <td id=\"T_1fb9d_row4_col2\" class=\"data row4 col2\" >965</td>\n",
       "      <td id=\"T_1fb9d_row4_col3\" class=\"data row4 col3\" >364</td>\n",
       "      <td id=\"T_1fb9d_row4_col4\" class=\"data row4 col4\" >37.72%</td>\n",
       "    </tr>\n",
       "    <tr>\n",
       "      <td id=\"T_1fb9d_row5_col0\" class=\"data row5 col0\" >treatment</td>\n",
       "      <td id=\"T_1fb9d_row5_col1\" class=\"data row5 col1\" >shopper-referral-bonus</td>\n",
       "      <td id=\"T_1fb9d_row5_col2\" class=\"data row5 col2\" >876</td>\n",
       "      <td id=\"T_1fb9d_row5_col3\" class=\"data row5 col3\" >416</td>\n",
       "      <td id=\"T_1fb9d_row5_col4\" class=\"data row5 col4\" >47.49%</td>\n",
       "    </tr>\n",
       "    <tr>\n",
       "      <td id=\"T_1fb9d_row6_col0\" class=\"data row6 col0\" >treatment</td>\n",
       "      <td id=\"T_1fb9d_row6_col1\" class=\"data row6 col1\" >social-media</td>\n",
       "      <td id=\"T_1fb9d_row6_col2\" class=\"data row6 col2\" >1,666</td>\n",
       "      <td id=\"T_1fb9d_row6_col3\" class=\"data row6 col3\" >616</td>\n",
       "      <td id=\"T_1fb9d_row6_col4\" class=\"data row6 col4\" >36.97%</td>\n",
       "    </tr>\n",
       "    <tr>\n",
       "      <td id=\"T_1fb9d_row7_col0\" class=\"data row7 col0\" >treatment</td>\n",
       "      <td id=\"T_1fb9d_row7_col1\" class=\"data row7 col1\" >web-search-engine</td>\n",
       "      <td id=\"T_1fb9d_row7_col2\" class=\"data row7 col2\" >2,305</td>\n",
       "      <td id=\"T_1fb9d_row7_col3\" class=\"data row7 col3\" >1,003</td>\n",
       "      <td id=\"T_1fb9d_row7_col4\" class=\"data row7 col4\" >43.51%</td>\n",
       "    </tr>\n",
       "  </tbody>\n",
       "</table>\n"
      ],
      "text/plain": [
       "<pandas.io.formats.style.Styler at 0x2a282d17b60>"
      ]
     },
     "execution_count": 31,
     "metadata": {},
     "output_type": "execute_result"
    }
   ],
   "source": [
    "# Pretty display with styling\n",
    "styled_summary = summary.style \\\n",
    "    .format({\n",
    "        'total_applied': '{:,}',\n",
    "        'total_completed': '{:,}',\n",
    "        'conversion_rate': '{:.2%}'\n",
    "    }) \\\n",
    "    .background_gradient(subset='conversion_rate', cmap='Greens') \\\n",
    "    .set_properties(**{'text-align': 'center'}) \\\n",
    "    .set_table_styles([{\n",
    "        'selector': 'th',\n",
    "        'props': [('text-align', 'center')]\n",
    "    }]) \\\n",
    "    .hide(axis='index')  # optional: hides the pandas row index\n",
    "\n",
    "styled_summary\n"
   ]
  },
  {
   "cell_type": "code",
   "execution_count": null,
   "id": "1ee8489e-c1b4-484b-a548-0c1c8506ae20",
   "metadata": {},
   "outputs": [],
   "source": []
  }
 ],
 "metadata": {
  "kernelspec": {
   "display_name": "Python 3 (ipykernel)",
   "language": "python",
   "name": "python3"
  },
  "language_info": {
   "codemirror_mode": {
    "name": "ipython",
    "version": 3
   },
   "file_extension": ".py",
   "mimetype": "text/x-python",
   "name": "python",
   "nbconvert_exporter": "python",
   "pygments_lexer": "ipython3",
   "version": "3.12.4"
  }
 },
 "nbformat": 4,
 "nbformat_minor": 5
}
